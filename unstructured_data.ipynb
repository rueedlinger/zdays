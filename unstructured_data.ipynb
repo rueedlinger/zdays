{
 "cells": [
  {
   "cell_type": "markdown",
   "metadata": {},
   "source": [
    "# Transforming unstructured data into structured data"
   ]
  },
  {
   "cell_type": "markdown",
   "metadata": {},
   "source": [
    "The pyparsing module is an alternative approach to creating and executing simple grammars, vs. the traditional lex/yacc approach, or the use of regular expressions. \n",
    "https://pyparsing.wikispaces.com/"
   ]
  },
  {
   "cell_type": "code",
   "execution_count": 19,
   "metadata": {
    "collapsed": false
   },
   "outputs": [],
   "source": [
    "document = \"\"\"\n",
    "Prolog\n",
    "Lorem ipsum dolor sit amet, consectetur adipiscing elit. \n",
    "Integer non bibendum eros. Cras vitae suscipit quam. Nulla sodales nisl sit \n",
    "amet mauris elementum pretium. Proin mollis blandit accumsan. Lorem ipsum \n",
    "dolor sit amet, consectetur adipiscing elit. Cras eget leo eu ligula \n",
    "sodales tempus. Sed congue velit id urna condimentum scelerisque.\n",
    "\n",
    "\n",
    "Heading1\n",
    "Lorem ipsum dolor sit amet, consectetur adipiscing elit, sed do \n",
    "eiusmod tempor incididunt ut labore et dolore magna aliqua. Ut enim ad minim veniam, \n",
    "quis nostrud exercitation ullamco laboris nisi ut aliquip ex ea commodo consequat. \n",
    "\n",
    "Duis aute irure dolor in reprehenderit in voluptate velit esse cillum dolore eu fugiat \n",
    "nulla pariatur. Excepteur sint occaecat cupidatat non proident, sunt in culpa qui \n",
    "officia deserunt mollit anim id est laborum.\n",
    "\n",
    "\n",
    "\"\"\""
   ]
  },
  {
   "cell_type": "code",
   "execution_count": 20,
   "metadata": {
    "collapsed": false
   },
   "outputs": [],
   "source": [
    "# modify text; place marker, clean text, ...\n",
    "document = document.replace('Prolog', '__Prolog__')\n",
    "document = document.replace('Heading1', '__Heading1__')"
   ]
  },
  {
   "cell_type": "code",
   "execution_count": 21,
   "metadata": {
    "collapsed": false
   },
   "outputs": [],
   "source": [
    "from pyparsing import *\n",
    "\n",
    "punctuation = \",.;'`&-\"\n",
    "special_chars = \"\\\\()[]/\"\n",
    "newline = \"\\n\"\n",
    "space = \" \"\n",
    "\n",
    "text = Word(alphanums + space + newline + punctuation)\n",
    "\n",
    "prolog = Group(Literal(\"__Prolog__\")  +  text).setResultsName('prolog')\n",
    "heading1 = Group(Literal(\"__Heading1__\") +  text).setResultsName('heading1')\n",
    "heading2 = Group(Literal(\"__Heading2__\") +  text).setResultsName('heading2')\n",
    "\n"
   ]
  },
  {
   "cell_type": "code",
   "execution_count": 22,
   "metadata": {
    "collapsed": false
   },
   "outputs": [
    {
     "name": "stdout",
     "output_type": "stream",
     "text": [
      "['__Prolog__', 'Lorem ipsum dolor sit amet, consectetur adipiscing elit. \\nInteger non bibendum eros. Cras vitae suscipit quam. Nulla sodales nisl sit \\namet mauris elementum pretium. Proin mollis blandit accumsan. Lorem ipsum \\ndolor sit amet, consectetur adipiscing elit. Cras eget leo eu ligula \\nsodales tempus. Sed congue velit id urna condimentum scelerisque.\\n\\n\\n']\n"
     ]
    }
   ],
   "source": [
    "docgrammer = prolog + heading1 + Optional(heading2)\n",
    "out = docgrammer.parseString( document )\n",
    "\n",
    "print out['prolog']\n"
   ]
  },
  {
   "cell_type": "code",
   "execution_count": null,
   "metadata": {
    "collapsed": false
   },
   "outputs": [],
   "source": []
  }
 ],
 "metadata": {
  "kernelspec": {
   "display_name": "Python 2",
   "language": "python",
   "name": "python2"
  },
  "language_info": {
   "codemirror_mode": {
    "name": "ipython",
    "version": 2
   },
   "file_extension": ".py",
   "mimetype": "text/x-python",
   "name": "python",
   "nbconvert_exporter": "python",
   "pygments_lexer": "ipython2",
   "version": "2.7.10"
  }
 },
 "nbformat": 4,
 "nbformat_minor": 0
}
