{
 "metadata": {
  "name": "",
  "signature": "sha256:cf56614f8d83b9663267039fb8aac5511d2ee3f0ec4dedfe9526a62bae69bbd8"
 },
 "nbformat": 3,
 "nbformat_minor": 0,
 "worksheets": [
  {
   "cells": [
    {
     "cell_type": "heading",
     "level": 1,
     "metadata": {},
     "source": [
      "Annotate and visualize data"
     ]
    },
    {
     "cell_type": "code",
     "collapsed": false,
     "input": [
      "import re\n",
      "\n",
      "class Annotator:\n",
      "    \n",
      "    def __init__(self, tags):\n",
      "        self.tags = tags\n",
      "        \n",
      "    \n",
      "    def annotate(self, *args):\n",
      "        \n",
      "        return self.find(args).keys()\n",
      "    \n",
      "    def count(self, *args):\n",
      "        return self.find(args)\n",
      "    \n",
      "    def find(self, args):\n",
      "        \n",
      "        text = ''\n",
      "        \n",
      "        for a in args:\n",
      "            if a is not None:\n",
      "                text += a + ' '\n",
      "            \n",
      "        found = {}\n",
      "        \n",
      "        if text == None:\n",
      "            return found\n",
      "        \n",
      "                \n",
      "        for tag in self.tags:\n",
      "            tag = str(tag)\n",
      "            tag = tag.replace('-', ' ')\n",
      "            \n",
      "            m = re.search('([\\s]|\\A)' + re.escape(tag.lower()) + '([\\s]|\\Z)', text.lower())\n",
      "            \n",
      "            if m:\n",
      "                found[tag] = text.count(tag.lower())\n",
      "        \n",
      "            \n",
      "        return found   "
     ],
     "language": "python",
     "metadata": {},
     "outputs": [],
     "prompt_number": 122
    },
    {
     "cell_type": "code",
     "collapsed": false,
     "input": [
      "text1 = \"java, java, java ee and .net\"\n",
      "text2 = \"java and c# with asp.net\"\n",
      "text3 = \"java and java ee\"\n",
      "\n",
      "tags = ['java', 'java-ee', '.Net', 'C#', 'ASP.net']\n",
      "\n",
      "a = Annotator(tags)\n"
     ],
     "language": "python",
     "metadata": {},
     "outputs": [],
     "prompt_number": 119
    },
    {
     "cell_type": "code",
     "collapsed": false,
     "input": [
      "a.annotate(text1, text2)"
     ],
     "language": "python",
     "metadata": {},
     "outputs": [
      {
       "metadata": {},
       "output_type": "pyout",
       "prompt_number": 120,
       "text": [
        "['C#', 'ASP.net', '.Net', 'java', 'java ee']"
       ]
      }
     ],
     "prompt_number": 120
    },
    {
     "cell_type": "code",
     "collapsed": false,
     "input": [
      "a.count(text1, text2, text3)"
     ],
     "language": "python",
     "metadata": {},
     "outputs": [
      {
       "metadata": {},
       "output_type": "pyout",
       "prompt_number": 121,
       "text": [
        "{'.Net': 2, 'ASP.net': 1, 'C#': 1, 'java': 6, 'java ee': 2}"
       ]
      }
     ],
     "prompt_number": 121
    },
    {
     "cell_type": "code",
     "collapsed": false,
     "input": [
      "%matplotlib inline\n",
      "import matplotlib.pyplot as plt\n",
      "\n",
      "data = a.count(text1, text2, text3)\n",
      "\n",
      "plt.bar(range(len(data)), data.values(), align='center')\n",
      "plt.xticks(range(len(data)), data.keys())\n",
      "\n",
      "plt.show()"
     ],
     "language": "python",
     "metadata": {},
     "outputs": [
      {
       "metadata": {},
       "output_type": "display_data",
       "png": "[encoded data removed]",
       "text": [
        "<matplotlib.figure.Figure at 0xa6e6fd0>"
       ]
      }
     ],
     "prompt_number": 116
    }
   ],
   "metadata": {}
  }
 ]
}