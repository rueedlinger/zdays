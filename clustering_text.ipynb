{
 "metadata": {
  "name": "",
  "signature": "sha256:08a5840d3c270fc66bc6aeb70a096eea7cfae3a89f3d50d698fad3a5520e74b2"
 },
 "nbformat": 3,
 "nbformat_minor": 0,
 "worksheets": [
  {
   "cells": [
    {
     "cell_type": "heading",
     "level": 1,
     "metadata": {},
     "source": [
      "Clustering Text"
     ]
    },
    {
     "cell_type": "markdown",
     "metadata": {},
     "source": [
      "based on http://scikit-learn.org/stable/auto_examples/document_clustering.html"
     ]
    },
    {
     "cell_type": "code",
     "collapsed": false,
     "input": [
      "from sklearn.feature_extraction.text import TfidfVectorizer\n",
      "from sklearn.cluster import KMeans\n",
      "\n",
      "import pandas as pd"
     ],
     "language": "python",
     "metadata": {},
     "outputs": [],
     "prompt_number": 6
    },
    {
     "cell_type": "markdown",
     "metadata": {},
     "source": [
      "Read top stackoverflow tags  with high fav count and min tag length.\n",
      "- http://data.stackexchange.com/stackoverflow/query/363641/tags-min-len-and-high-fav-count\n",
      "- select top 5000 Tags from Posts where len(Tags) > 20 and FavoriteCount > 100"
     ]
    },
    {
     "cell_type": "code",
     "collapsed": false,
     "input": [
      "df = pd.read_csv('data/tags_stackoverflow.csv');\n",
      "df['Tags'] = df['Tags'].map(lambda x: str(x).replace('<', '').replace('>', ' '))\n",
      "print df.head()"
     ],
     "language": "python",
     "metadata": {},
     "outputs": [
      {
       "output_type": "stream",
       "stream": "stdout",
       "text": [
        "                                                Tags\n",
        "0  web-applications stress-testing performance we...\n",
        "1     wcf security rest authorization rest-security \n",
        "2  database database-design language-agnostic nam...\n",
        "3               sql sql-server database performance \n",
        "4             sql sql-server tsql duplicate-removal \n"
       ]
      }
     ],
     "prompt_number": 8
    },
    {
     "cell_type": "code",
     "collapsed": false,
     "input": [
      "true_k = 20\n",
      "tags = df['Tags'].values\n",
      "\n",
      "vectorizer = TfidfVectorizer()\n",
      "X = vectorizer.fit_transform(tags)\n",
      "model = KMeans(n_clusters=true_k, init='k-means++', max_iter=100, n_init=10)\n",
      "model.fit(X)"
     ],
     "language": "python",
     "metadata": {},
     "outputs": [
      {
       "metadata": {},
       "output_type": "pyout",
       "prompt_number": 10,
       "text": [
        "KMeans(copy_x=True, init='k-means++', max_iter=100, n_clusters=20, n_init=10,\n",
        "    n_jobs=1, precompute_distances=True, random_state=None, tol=0.0001,\n",
        "    verbose=0)"
       ]
      }
     ],
     "prompt_number": 10
    },
    {
     "cell_type": "code",
     "collapsed": false,
     "input": [
      "print(\"Top terms per cluster:\")\n",
      "order_centroids = model.cluster_centers_.argsort()[:, ::-1]\n",
      "terms = vectorizer.get_feature_names()\n",
      "for i in range(true_k):\n",
      "    print \"Cluster %d:\" % i,\n",
      "    for ind in order_centroids[i, :10]:\n",
      "        print ' %s' % terms[ind],\n",
      "    print"
     ],
     "language": "python",
     "metadata": {},
     "outputs": [
      {
       "output_type": "stream",
       "stream": "stdout",
       "text": [
        "Top terms per cluster:\n",
        "Cluster 0:  design  performance  bash  database  patterns  shell  programming  linux  http  vim\n",
        "Cluster 1:  android  layout  intent  listview  textview  fragments  activity  image  context  emulator\n",
        "Cluster 2:  python  list  class  string  django  design  dictionary  performance  oop  pip\n",
        "Cluster 3:  iphone  ios  objective  ipad  uinavigationbar  core  data  uitableview  uiimage  xcode\n",
        "Cluster 4:  javascript  jquery  html  arrays  ajax  object  events  html5  function  json\n",
        "Cluster 5:  git  branch  version  control  merge  submodules  clone  remote  gitignore  github\n",
        "Cluster 6:  sql  server  database  tsql  mysql  join  group  linq  sqlite  2005\n",
        "Cluster 7:  net  asp  mvc  vb  iis  wpf  entity  winforms  framework  performance\n",
        "Cluster 8:  faq  pointers  11  reference  operator  undefined  smart  constructor  behavior  arrays\n",
        "Cluster 9:  file  web  services  applications  windows  io  rest  soap  batch  upload\n",
        "Cluster 10:  language  algorithm  agnostic  data  programming  theory  math  structures  big  optimization\n",
        "Cluster 11:  cocoa  objective  touch  ios  iphone  uitableview  core  xcode  uikit  uiview\n",
        "Cluster 12:  google  chrome  api  facebook  devtools  javascript  maps  ajax  play  jquery\n",
        "Cluster 13:  java  string  android  multithreading  jsp  maven  spring  exception  eclipse  servlets\n",
        "Cluster 14:  twitter  bootstrap  autocomplete  jquery  css  compression  less  tags  ide  unicode\n",
        "Cluster 15:  css  html  alignment  vertical  css3  javascript  image  position  layout  background\n",
        "Cluster 16:  js  node  javascript  npm  backbone  express  underscore  middleware  serverside  v8\n",
        "Cluster 17:  ruby  rails  on  pipeline  asset  rubygems  rake  handling  sprockets  exception\n",
        "Cluster 18:  php  security  mysql  passwords  cryptography  hash  encryption  pdo  email  performance\n",
        "Cluster 19:  angularjs  javascript  angular  directive  scope  routing  jquery  service  html  promise\n"
       ]
      }
     ],
     "prompt_number": 11
    },
    {
     "cell_type": "code",
     "collapsed": false,
     "input": [
      "tags_to_predict = ['java java-ee hibernate']\n",
      "clusters = model.predict(vectorizer.transform(tags_to_predict))\n",
      "\n",
      "print \"predicted clusters: %s \" % str(clusters)\n",
      "\n"
     ],
     "language": "python",
     "metadata": {},
     "outputs": [
      {
       "output_type": "stream",
       "stream": "stdout",
       "text": [
        "predicted clusters: [13] \n"
       ]
      }
     ],
     "prompt_number": 20
    },
    {
     "cell_type": "code",
     "collapsed": false,
     "input": [],
     "language": "python",
     "metadata": {},
     "outputs": []
    }
   ],
   "metadata": {}
  }
 ]
}